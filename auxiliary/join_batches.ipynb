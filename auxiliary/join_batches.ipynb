{
 "cells": [
  {
   "cell_type": "code",
   "execution_count": null,
   "id": "02434641-b01e-41a2-b260-1ecaf7b544aa",
   "metadata": {},
   "outputs": [],
   "source": [
    "import pandas as pd\n",
    "import numpy as np\n",
    "import os\n"
   ]
  },
  {
   "cell_type": "code",
   "execution_count": null,
   "id": "86cf78ff-e0d0-4b8c-a548-b0a1be477420",
   "metadata": {},
   "outputs": [],
   "source": [
    "# Create Check for which files are missing\n",
    "batch_ids = range(1,241)\n",
    "\n",
    "to_redo = list([*batch_ids])\n",
    "\n",
    "# Import Initial Files for all 6 exercises\n",
    "df_agg = pd.read_csv(\"aggregate_dataSLURMv20.csv\")\n",
    "\n",
    "df_wfh   = pd.read_csv(\"bywfh_dataSLURMv20.csv\")       \n",
    "df_age   = pd.read_csv(\"byage_dataSLURMv20.csv\")       \n",
    "df_naics = pd.read_csv(\"bynaics_dataSLURMv20.csv\")     \n",
    "df_sick  = pd.read_csv(\"bynaics_dataSLURMv20.csv\")     \n",
    "df_race  = pd.read_csv(\"byraceinc_dataSLURMv20.csv\")  \n"
   ]
  },
  {
   "cell_type": "code",
   "execution_count": null,
   "id": "35b40d19-e0cf-4d8d-95a6-7254a7f2a687",
   "metadata": {},
   "outputs": [],
   "source": [
    "for i in batch_ids:\n",
    "    to_import_agg   = \"aggregate_dataSLURMv2\"   + str(i) + \".csv\"\n",
    "    to_import_wfh   = \"bywfh_dataSLURMv2\"       + str(i) + \".csv\"\n",
    "    to_import_age   = \"byage_dataSLURMv2\"       + str(i) + \".csv\"\n",
    "    to_import_naics = \"bynaics_dataSLURMv2\"     + str(i) + \".csv\"\n",
    "    to_import_sick  = \"bynaics_dataSLURMv2\"     + str(i) + \".csv\"\n",
    "    to_import_race  = \"byraceinc_dataSLURMv2\"   + str(i) + \".csv\"\n",
    "\n",
    "\n",
    "\n",
    "    \n",
    "\n",
    "    # Check if run exists\n",
    "    import_check =  os.path.exists(to_import_agg)\n",
    "\n",
    "\n",
    "    # If all six files exist \n",
    "    if import_check == 1:\n",
    "        print(i)\n",
    "        to_redo.remove(i)\n",
    "\n",
    "\n",
    "        imported_agg  = pd.read_csv(to_import_agg)\n",
    "        df_agg = pd.concat([df_agg,imported_agg])\n",
    "\n",
    "        imported_wfh  = pd.read_csv(to_import_wfh)\n",
    "        df_wfh = pd.concat([df_wfh,imported_wfh])\n",
    "\n",
    "        imported_age  = pd.read_csv(to_import_age)\n",
    "        df_age = pd.concat([df_age,imported_age])\n",
    "\n",
    "        imported_naics  = pd.read_csv(to_import_naics)\n",
    "        df_naics = pd.concat([df_naics,imported_naics])\n",
    "        \n",
    "        imported_sick  = pd.read_csv(to_import_sick)\n",
    "        df_sick = pd.concat([df_sick,imported_sick])\n",
    "\n",
    "        imported_race  = pd.read_csv(to_import_race)\n",
    "        df_race = pd.concat([df_race,imported_race])\n",
    "\n",
    "\n",
    "    "
   ]
  },
  {
   "cell_type": "code",
   "execution_count": null,
   "id": "f69a9000-ae73-473d-9048-e3239ce40b87",
   "metadata": {},
   "outputs": [],
   "source": [
    "# Look at dimensions\n",
    "print(df_agg.shape)\n",
    "\n",
    "print(to_redo)\n",
    "\n",
    "# Save everything to CSV\n",
    "df_agg.to_csv(\"aggregate_results.csv\")\n",
    "df_wfh.to_csv(\"bywfh_results.csv\")\n",
    "df_age.to_csv(\"byage_results.csv\")\n",
    "df_naics.to_csv(\"bynaics_results.csv\")\n",
    "df_race.to_csv(\"byrace_results.csv\")\n",
    "df_sick.to_csv(\"bysick_results.csv\")"
   ]
  },
  {
   "cell_type": "code",
   "execution_count": null,
   "id": "ed3348c5-2671-4ff5-82cb-44648101c70d",
   "metadata": {},
   "outputs": [],
   "source": []
  }
 ],
 "metadata": {
  "kernelspec": {
   "display_name": "Julia 1.7.2",
   "language": "julia",
   "name": "julia-1.7"
  },
  "language_info": {
   "file_extension": ".jl",
   "mimetype": "application/julia",
   "name": "julia",
   "version": "1.7.2"
  }
 },
 "nbformat": 4,
 "nbformat_minor": 5
}
